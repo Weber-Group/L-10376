{
 "cells": [
  {
   "cell_type": "markdown",
   "id": "4e96dfc5-29ed-446a-a6e1-2eeea622a680",
   "metadata": {},
   "source": [
    "# Nonlinear Analysis Notebook\n",
    "### Importing libraries"
   ]
  },
  {
   "cell_type": "code",
   "execution_count": null,
   "id": "1d9886b0-7ede-4fe4-aa96-98e8256b167b",
   "metadata": {},
   "outputs": [],
   "source": [
    "import numpy as np \n",
    "import h5py\n",
    "import matplotlib.pyplot as plt\n",
    "import scipy.io\n",
    "import os\n",
    "import re\n",
    "from utils import *"
   ]
  },
  {
   "cell_type": "markdown",
   "id": "331f1f32-5d12-41de-b3a1-4382d0dbbc64",
   "metadata": {},
   "source": [
    "### Loading runs"
   ]
  },
  {
   "cell_type": "code",
   "execution_count": null,
   "id": "031731b0-8be2-48b6-8628-f58ca77c6f87",
   "metadata": {},
   "outputs": [],
   "source": [
    "###############################################\n",
    "runNumbers = []  # enter the run numbers to be loaded\n",
    "folder = '/sdf/data/lcls/ds/cxi/cxil1037623/hdf5/smalldata/' # insert here the directory path where .h5 files are stored\n",
    "###############################################\n",
    "# (1) keys_to_combine: some keys loaded for each shot & stored per shot \n",
    "# (2) keys_to_sum: some keys loaded per each run and added \n",
    "# (3) keys_to_check : check if some keys exits and have same values in all runs and load these keys \n",
    "keys_to_combine = ['jungfrau4M/azav_azav',\n",
    "                   'ipm_dg2/sum',\n",
    "                    #'ipm_dg3/sum',\n",
    "                   #'ipm_hfx_dg2/sum',\n",
    "                   #'alvium_u1/laser_com',\n",
    "                   #'alvium_u1/laser_sum',\n",
    "                   #'Acqiris/FastTiming_area',\n",
    "                   'gas_detector/f_11_ENRC',\n",
    "                   'ebeam/photon_energy',\n",
    "                   'evr/code_183',\n",
    "                   'evr/code_137',\n",
    "                   'evr/code_141',\n",
    "                   'lightStatus/laser',\n",
    "                   'lightStatus/xray']\n",
    "\n",
    "keys_to_sum = ['Sums/jungfrau4M_calib']\n",
    "#               'Sums/jungfrau4M_calib_thresADU1']\n",
    "\n",
    "keys_to_check = ['UserDataCfg/jungfrau4M/azav__azav_q',\n",
    "                'UserDataCfg/jungfrau4M/azav__azav_qbin',\n",
    "                'UserDataCfg/jungfrau4M/azav__azav_qbins',\n",
    "                 'UserDataCfg/jungfrau4M/x',\n",
    "                 'UserDataCfg/jungfrau4M/y',\n",
    "                 'UserDataCfg/jungfrau4M/z',\n",
    "                 'UserDataCfg/jungfrau4M/azav__azav_matrix_q',\n",
    "                 'UserDataCfg/jungfrau4M/azav__azav_matrix_phi',\n",
    "                #'UserDataCfg/jungfrau4M/cmask',\n",
    "                # 'UserDataCfg/jungfrau4M/Full_thres__Full_thres_thresADU',\n",
    "                # 'UserDataCfg/jungfrau4M/Full_thres__Full_thres_bound',\n",
    "                'UserDataCfg/jungfrau4M/common_mode_pars']\n",
    "# Load the data in\n",
    "data = combineRuns(runNumbers, folder, keys_to_combine, keys_to_sum, keys_to_check, verbose=False)  # this is the function to load the data with defined keys\n",
    "\n",
    "azav = np.squeeze(data['jungfrau4M/azav_azav']) # I(q) : 1D azimuthal average of signals in each q bin\n",
    "qbin = data['UserDataCfg/jungfrau4M/azav__azav_qbin'] # q bin-size\n",
    "q = data['UserDataCfg/jungfrau4M/azav__azav_q'] # q bins \n",
    "qbins = data['UserDataCfg/jungfrau4M/azav__azav_qbins'] # q bins\n",
    "matrix_q = data['UserDataCfg/jungfrau4M/azav__azav_matrix_q'].reshape(8,512,1024)  # q matrix Jungfrau shaped\n",
    "matrix_phi = data['UserDataCfg/jungfrau4M/azav__azav_matrix_phi'].reshape(8,512,1024) # phi for anisotropic data\n",
    "laserOn = data['evr/code_183'].astype(bool)  # laser on events\n",
    "xrayOn = data['evr/code_137'].astype(bool)  # xray on events\n",
    "laserOn2 = data['lightStatus/laser'].astype(bool)  # laser on events \n",
    "xrayOn2 = data['lightStatus/xray'].astype(bool)  # xray on events\n",
    "jungfrau_sum = data['Sums/jungfrau4M_calib']  # Total Jungfrau detector counts summed in a run\n",
    "#jungfrau_sum = data['Sums/jungfrau4M_calib_thresADU1']   # Total Jungfrau detector counts with Thresholds added, summed in a run \n",
    "x = data['UserDataCfg/jungfrau4M/x'] # coordinates of Jungfrau detector x,y,z\n",
    "y = data['UserDataCfg/jungfrau4M/y']\n",
    "z = data['UserDataCfg/jungfrau4M/z'] \n",
    "\n",
    "#cmask = data['UserDataCfg/jungfrau4M/cmask'].astype(bool) # Mask for detector created \n",
    "run_indicator = data['run_indicator'] # run indicator for each shot\n",
    "# UV_com = data['alvium_u1/laser_com']  # center of mass for laser (pump) pointing\n",
    "# UV_sum = data['alvium_u1/laser_sum']   # intensity sum for laser (pump) pointing\n",
    "# Acqiris_FastTiming = data['Acqiris/FastTiming_area']  # diode signal for laser after interaction\n",
    "# Acqiris_Laser = data['Acqiris/Laser_area'] # diode signal for laser before interaction\n",
    "dg2 = data['ipm_dg2/sum']   # upstream diode x-ray intensity\n",
    "# dg3 = data['ipm_dg3/sum']    # downstream diode x-ray intensity\n",
    "# pressure = data['epicsAll/gasCell_pressure']  # pressure in gas cell\n",
    "xray_energy = data['gas_detector/f_11_ENRC']   # xray energy from gas detector (not calibrated to actual values)\n",
    "xray_eV = data['ebeam/photon_energy']    # x-ray energy energy in eV"
   ]
  }
 ],
 "metadata": {
  "kernelspec": {
   "display_name": "Python 3 (ipykernel)",
   "language": "python",
   "name": "python3"
  },
  "language_info": {
   "codemirror_mode": {
    "name": "ipython",
    "version": 3
   },
   "file_extension": ".py",
   "mimetype": "text/x-python",
   "name": "python",
   "nbconvert_exporter": "python",
   "pygments_lexer": "ipython3",
   "version": "3.9.20"
  }
 },
 "nbformat": 4,
 "nbformat_minor": 5
}
