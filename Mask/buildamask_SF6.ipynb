{
 "cells": [
  {
   "cell_type": "markdown",
   "id": "a0231662-42e3-4f50-a10a-13b059b97e24",
   "metadata": {},
   "source": [
    "## First loading in modules"
   ]
  },
  {
   "cell_type": "code",
   "execution_count": 1,
   "id": "ac6c854f-835a-4cc2-8cc5-77b6f5d2d417",
   "metadata": {},
   "outputs": [],
   "source": [
    "from masking_py3 import maskmaker\n",
    "import numpy as np\n",
    "import matplotlib.pyplot as plt\n",
    "from psana import * "
   ]
  },
  {
   "cell_type": "markdown",
   "id": "6700cc0e-c87b-4d50-9f27-d807709c5d8f",
   "metadata": {
    "tags": []
   },
   "source": [
    "# This first section creates a basic mask using a dark and a blank run"
   ]
  },
  {
   "cell_type": "markdown",
   "id": "d0e7973d-79b6-4a16-9b6b-e265e602b132",
   "metadata": {},
   "source": [
    "## Defining the tunables"
   ]
  },
  {
   "cell_type": "code",
   "execution_count": null,
   "id": "a33bfdc3-4870-4f1f-96b1-0adf17811541",
   "metadata": {},
   "outputs": [],
   "source": [
    "run = 44\n",
    "Nevents = 100000\n",
    "datadir = '/sdf/data/lcls/ds/cxi/cxil1015022/scratch/nag1647/Masks/'\n",
    "detector = 'front' \n",
    "filename = datadir+'run%d_%d_stats.h5' %(run, Nevents/1000)\n",
    "#whichmask = 'dark' #'dark' or 'xray'\n",
    "whichmask = 'xray'\n",
    "\n",
    "if whichmask == 'xray':\n",
    "\toldmask = np.load(datadir+'run%d_mask_dark.npy' %run)\n",
    "#    oldmask = np.load(datadir+'Mask_Jungfrau_T_Edge_Corrected.npy')\n",
    "if whichmask == 'dark':\n",
    "\toldmask = np.load(datadir+'Mask_Jungfrau_Line_Edge.npy') #mask of just edge & unbonded pixels\n",
    "    \n"
   ]
  },
  {
   "cell_type": "markdown",
   "id": "890cb71a-3b81-4b95-b0c7-531185d12eae",
   "metadata": {},
   "source": [
    "## Make the Mask"
   ]
  },
  {
   "cell_type": "code",
   "execution_count": null,
   "id": "44e99300-12d8-4a0c-8739-f9a9f94dd5ee",
   "metadata": {},
   "outputs": [],
   "source": [
    "#maskmaker makes the mask, starting from the 'oldmask' input\n",
    "mm = maskmaker('cxil1015022', run, detector, filename, oldmask)\n",
    "\n",
    "xray_image = np.copy(mm.xray)\n",
    "dark_image = np.copy(mm.dark)"
   ]
  },
  {
   "cell_type": "markdown",
   "id": "14259ea1-e66c-4a8c-b63a-580a13cad80b",
   "metadata": {},
   "source": [
    "## Find Upper and Lower Bounds"
   ]
  },
  {
   "cell_type": "code",
   "execution_count": null,
   "id": "055cf8b1-8075-40a5-ada7-9fdd95714fb6",
   "metadata": {},
   "outputs": [],
   "source": [
    "###### print 'use the histogram to find lower and upper bounds'\n",
    "if whichmask == 'xray':\n",
    "\tplt.hist(xray_image.flatten(), bins=552, range = (-.15, .15))\n",
    "\tplt.title('xray-on image')\n",
    "if whichmask == 'dark':\n",
    "\tplt.hist(dark_image.flatten(), bins=100, range = (-.25,.25))\n",
    "\tplt.title('xray-off image run %d' % run)\n",
    "plt.ylabel('pixel counts')\n",
    "plt.xlabel('ADU per pixel')\n",
    "plt.show()\n",
    "#plt.savefig('run%d_dark.png' % run)\n",
    "\n",
    "print('input the lower bound:')\n",
    "lb = float(input())\n",
    "print('input the upper bound:')\n",
    "ub = float(input())\n",
    "\n",
    "assert ub > lb"
   ]
  },
  {
   "cell_type": "markdown",
   "id": "06293d76-94f5-4fde-9f9c-a60f828c0fbd",
   "metadata": {},
   "source": [
    "## Make new mask"
   ]
  },
  {
   "cell_type": "code",
   "execution_count": null,
   "id": "e9712e53-bcc9-43ac-b3a6-7e8603f20227",
   "metadata": {},
   "outputs": [],
   "source": [
    "name = datadir+'run%d_mask_%s.npy' %(run, whichmask)\n",
    "newmask = mm(whichmask, lowerbound=lb, upperbound=ub, tolerance=2.5, name=name)\n",
    "print(newmask.sum())"
   ]
  },
  {
   "cell_type": "markdown",
   "id": "e5663bc0-4261-49f3-a4d2-7e016e7f4022",
   "metadata": {},
   "source": [
    "# Next making a mask to match SF6 Experiment to Theory"
   ]
  },
  {
   "cell_type": "markdown",
   "id": "eed90eb8-9f03-4a47-88ef-78b34ecbecde",
   "metadata": {},
   "source": [
    "## First combining the blank and dark mask into the final basic mask"
   ]
  },
  {
   "cell_type": "code",
   "execution_count": 2,
   "id": "2315f897-e597-42ca-b26a-c1e1fc2c184d",
   "metadata": {},
   "outputs": [
    {
     "name": "stdout",
     "output_type": "stream",
     "text": [
      "94.53585147857666\n"
     ]
    }
   ],
   "source": [
    "datadir = '/sdf/data/lcls/ds/cxi/cxil1015022/scratch/nag1647/Masks/'\n",
    "dark_run = 174\n",
    "blank_run = 175\n",
    "\n",
    "mask_off = np.load(datadir+'run%d_mask_xray.npy' % dark_run)\n",
    "mask_on = np.load(datadir+'run%d_mask_xray.npy' % blank_run) \n",
    "\n",
    "mask_tot = mask_off*mask_on\n",
    "print(100*np.sum(mask_tot)/mask_tot.size) #Percentage of pixels currently making it through the mask"
   ]
  },
  {
   "cell_type": "markdown",
   "id": "e981c0bc-3291-42cb-9f5c-be358d1fbbe8",
   "metadata": {},
   "source": [
    "## Set the tunables"
   ]
  },
  {
   "cell_type": "code",
   "execution_count": 3,
   "id": "dbf68701-af6a-46ce-a02e-9264e0cb515c",
   "metadata": {},
   "outputs": [],
   "source": [
    "run = 180\n",
    "Nevents = 100000\n",
    "filename = datadir+'run%d_%d_stats.h5' %(run, Nevents/1000)\n",
    "whichmask = 'SF6'\n",
    "\n",
    "x0 = -734.66\n",
    "y0 = -213.26\n",
    "z0 = 84160. \n",
    "xrayEnergy = 9800. #Xray photon energy in eV \n",
    "qbinsize = 0.2 #inverse Angstroms"
   ]
  },
  {
   "cell_type": "code",
   "execution_count": 4,
   "id": "8c1a058e-ebe8-47d4-8ad8-d91901b0d234",
   "metadata": {},
   "outputs": [
    {
     "name": "stdout",
     "output_type": "stream",
     "text": [
      "dark_front\n",
      "dark_shots\n",
      "front_intensity\n",
      "xray_front\n",
      "xray_shots\n",
      "35536\n"
     ]
    }
   ],
   "source": [
    "import h5py\n",
    "\n",
    "hf = h5py.File(filename, 'r')\n",
    "for item in hf:\n",
    "    print(item)\n",
    "    exec('%s = np.array(hf[item])' %str(item))\n",
    "print(xray_shots)"
   ]
  },
  {
   "cell_type": "markdown",
   "id": "30e0bee0-e823-4fba-8894-0d6b4696e5cf",
   "metadata": {},
   "source": [
    "## Finding lower and upper bounds and creating mask.  Go through this module once for each qbin, from Index = 0 to Index = len(qbins)"
   ]
  },
  {
   "cell_type": "code",
   "execution_count": 8,
   "id": "2aaa6ecf-1880-4ae0-825c-27d27e2ed898",
   "metadata": {},
   "outputs": [
    {
     "name": "stdout",
     "output_type": "stream",
     "text": [
      "dark_front\n",
      "dark_shots\n",
      "front_intensity\n",
      "xray_front\n",
      "xray_shots\n",
      "22\n"
     ]
    },
    {
     "data": {
      "image/png": "[encoded data removed]",
      "text/plain": [
       "<Figure size 640x480 with 1 Axes>"
      ]
     },
     "metadata": {},
     "output_type": "display_data"
    },
    {
     "data": {
      "text/plain": [
       "<Figure size 640x480 with 0 Axes>"
      ]
     },
     "metadata": {},
     "output_type": "display_data"
    },
    {
     "data": {
      "image/png": "[encoded data removed]",
      "text/plain": [
       "<Figure size 640x480 with 1 Axes>"
      ]
     },
     "metadata": {},
     "output_type": "display_data"
    },
    {
     "name": "stdout",
     "output_type": "stream",
     "text": [
      "ADU ranges ok? Answer yes or no\n"
     ]
    },
    {
     "name": "stdin",
     "output_type": "stream",
     "text": [
      " yes\n"
     ]
    },
    {
     "name": "stdout",
     "output_type": "stream",
     "text": [
      "input the lower bound for signal peak:\n"
     ]
    },
    {
     "name": "stdin",
     "output_type": "stream",
     "text": [
      " 13\n"
     ]
    },
    {
     "name": "stdout",
     "output_type": "stream",
     "text": [
      "input the upper bound for signal peak:\n"
     ]
    },
    {
     "name": "stdin",
     "output_type": "stream",
     "text": [
      " 40\n"
     ]
    },
    {
     "name": "stdout",
     "output_type": "stream",
     "text": [
      "97.44782447814941\n"
     ]
    }
   ],
   "source": [
    "###### print 'use the histogram to find lower and upper bounds'\n",
    "from masking_SF6_py3 import maskmaker_SF6\n",
    "line_mask = np.load('/sdf/data/lcls/ds/cxi/cxil1015022/scratch/nag1647/Masks/line_mask.npy')\n",
    "index = 1\n",
    "if index == 0:\n",
    "    #oldmask = mask_tot\n",
    "    oldmask = line_mask\n",
    "elif index != 0:\n",
    "    oldmask = np.load(datadir+'run%d_mask_%s.npy' %(run, whichmask))\n",
    "mmSF6 = maskmaker_SF6('cxil1015022', run, filename, oldmask, x0, y0, z0, xrayEnergy, qbinsize)\n",
    "xray_image = np.copy(mmSF6.xray)\n",
    "dark_image = np.copy(mmSF6.dark)\n",
    "q = np.copy(mmSF6.q)\n",
    "qbins = np.copy(mmSF6.qbins)\n",
    "print(len(qbins))\n",
    "inds = np.where((q>=qbins[index])&(q<qbins[index+1]))\n",
    "qring = xray_image[inds]\n",
    "plt.figure()\n",
    "plt.hist(qring.flatten(), bins=60)\n",
    "plt.title('entire range q = %3f' % qbins[index])\n",
    "plt.ylabel('pixel counts')\n",
    "plt.xlabel('ADU per pixel')\n",
    "plt.show()\n",
    "plt.figure()\n",
    "plt.figure()\n",
    "plt.hist(qring.flatten(), bins=60, range = (10,40))\n",
    "plt.title('0 peak q = %3f' % qbins[index])\n",
    "plt.ylabel('pixel counts')\n",
    "plt.xlabel('ADU per pixel')\n",
    "plt.show()\n",
    "\n",
    "print('ADU ranges ok? Answer yes or no')\n",
    "answer = str(input())\n",
    "if answer == 'yes':\n",
    "    print('input the lower bound for signal peak:')\n",
    "    lb1 = float(input())\n",
    "    print('input the upper bound for signal peak:')\n",
    "    ub1 = float(input())\n",
    "    assert ub1 > lb1\n",
    "    name = datadir+'run%d_mask_%s.npy' %(run, whichmask)\n",
    "#    newmask = mmSF6(whichmask, lowerbound=lb, upperbound=ub, upperbound_signal = ub1, lowerbound_signal = lb1, name=name, inds=inds)\n",
    "    newmask = mmSF6(whichmask, upperbound_signal = ub1, lowerbound_signal = lb1, name=name, inds=inds)\n",
    "    print(100*newmask.sum()/newmask.size)\n",
    "elif answer != 'yes':\n",
    "    print('Adjust the ranges and try again.  Answer yes when they are good')"
   ]
  },
  {
   "cell_type": "markdown",
   "id": "cd319f80-78c5-4c88-b9e3-5de1345131a1",
   "metadata": {},
   "source": [
    "## Once each qbin has been masked, run this final module to save the result"
   ]
  },
  {
   "cell_type": "code",
   "execution_count": 11,
   "id": "b5ac4c65-235d-40a9-bc7f-3f7f75762ae0",
   "metadata": {},
   "outputs": [
    {
     "name": "stdout",
     "output_type": "stream",
     "text": [
      "97.44977951049805\n"
     ]
    }
   ],
   "source": [
    "print(100*np.sum(oldmask/(8*512*1024)))"
   ]
  },
  {
   "cell_type": "code",
   "execution_count": 14,
   "id": "d3d52ce8-c222-4814-8469-c5e8a1194526",
   "metadata": {},
   "outputs": [
    {
     "name": "stdout",
     "output_type": "stream",
     "text": [
      "97.44782447814941\n"
     ]
    }
   ],
   "source": [
    "datadir = '/sdf/data/lcls/ds/cxi/cxil1015022/scratch/nag1647/Masks/'\n",
    "dark_run = 174\n",
    "blank_run = 175\n",
    "SF6_run = 180\n",
    "\n",
    "mask = np.load(datadir+'run%d_mask_SF6.npy' % SF6_run)\n",
    "\n",
    "#np.save(datadir+'Mask_Jungfrau_%d_%d_%d_SF6_Tuned_strict.npy' %(dark_run, blank_run, SF6_run), mask)\n",
    "np.save(datadir+'Mask_Jungfrau_Shadow.npy', mask)\n",
    "print(100*np.sum(mask)/mask.size) #Percentage of pixels currently making it through the mask"
   ]
  },
  {
   "cell_type": "markdown",
   "id": "8fb7f764-6493-46fc-b479-dc89e9b08b4a",
   "metadata": {
    "tags": []
   },
   "source": [
    "# Plotting Section"
   ]
  },
  {
   "cell_type": "markdown",
   "id": "b77bc03b-2ef8-4e43-8ceb-cfead5a0eee4",
   "metadata": {},
   "source": [
    "## Show Xray On Jungfrau Image"
   ]
  },
  {
   "cell_type": "code",
   "execution_count": 9,
   "id": "9da03cb1-6715-4089-b5a9-bf1c822b94ce",
   "metadata": {},
   "outputs": [
    {
     "data": {
      "image/png": "[encoded data removed]",
      "text/plain": [
       "<Figure size 640x480 with 2 Axes>"
      ]
     },
     "metadata": {},
     "output_type": "display_data"
    }
   ],
   "source": [
    "img = mmSF6.det.image(mmSF6.evt0, newmask)\n",
    "plt.imshow(img, vmin=-1, vmax=1)\n",
    "plt.colorbar()\n",
    "plt.title('xray-on jungfrau image')\n",
    "plt.show()"
   ]
  },
  {
   "cell_type": "code",
   "execution_count": null,
   "id": "ffb95423-1ede-4f38-baeb-2cef2ab958ea",
   "metadata": {},
   "outputs": [],
   "source": [
    "img = mm.det.image(mm.evt0, xray_image)\n",
    "plt.imshow(img, vmin=lb, vmax=ub)\n",
    "plt.colorbar()\n",
    "plt.title('xray-on jungfrau image')\n",
    "plt.show()"
   ]
  },
  {
   "cell_type": "markdown",
   "id": "3aa1f7f2-d244-4f11-b9e5-33b7e909a824",
   "metadata": {},
   "source": [
    "## Show Dark Image"
   ]
  },
  {
   "cell_type": "code",
   "execution_count": null,
   "id": "3f1980fb-cb5d-443f-b64b-dcb96fc6b6e7",
   "metadata": {},
   "outputs": [],
   "source": [
    "img = mm.det.image(mm.evt0, dark_image)\n",
    "plt.imshow(img, vmin=-2, vmax=2)\n",
    "plt.title('dark jungfrau image')\n",
    "plt.colorbar()\n",
    "plt.show()"
   ]
  },
  {
   "cell_type": "markdown",
   "id": "a927e07b-be14-4bdc-ae42-3f24f3a14da4",
   "metadata": {},
   "source": [
    "## Show Masked Image"
   ]
  },
  {
   "cell_type": "code",
   "execution_count": null,
   "id": "05616541-74b0-47ab-aff9-111f4da92b2e",
   "metadata": {},
   "outputs": [],
   "source": [
    "img = mm.det.image(mm.evt0, newmask* xray_image)\n",
    "plt.imshow(img, vmin=lb, vmax=ub)\n",
    "plt.title('dark jungfrau image')\n",
    "plt.colorbar()\n",
    "plt.title('masked jungfrau')\n",
    "plt.show()"
   ]
  },
  {
   "cell_type": "code",
   "execution_count": null,
   "id": "394d6a4c-3670-4288-87a5-096eeeedcabc",
   "metadata": {},
   "outputs": [],
   "source": [
    "img = mm.det.image(mm.evt0, oldmask)\n",
    "plt.imshow(img, vmin=0, vmax=1.3, cmap = 'jet')\n",
    "plt.title('Basic Mask')\n",
    "plt.colorbar()\n",
    "plt.show()\n",
    "#plt.savefig('analysis_mask.png')"
   ]
  },
  {
   "cell_type": "code",
   "execution_count": null,
   "id": "811393e1-ffea-44bc-af17-9c255f973bbd",
   "metadata": {},
   "outputs": [],
   "source": []
  }
 ],
 "metadata": {
  "kernelspec": {
   "display_name": "Python 3 (ipykernel)",
   "language": "python",
   "name": "python3"
  },
  "language_info": {
   "codemirror_mode": {
    "name": "ipython",
    "version": 3
   },
   "file_extension": ".py",
   "mimetype": "text/x-python",
   "name": "python",
   "nbconvert_exporter": "python",
   "pygments_lexer": "ipython3",
   "version": "3.9.20"
  }
 },
 "nbformat": 4,
 "nbformat_minor": 5
}
