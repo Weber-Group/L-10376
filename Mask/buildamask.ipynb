{
 "cells": [
  {
   "cell_type": "markdown",
   "id": "a0231662-42e3-4f50-a10a-13b059b97e24",
   "metadata": {},
   "source": [
    "## First loading in modules"
   ]
  },
  {
   "cell_type": "code",
   "execution_count": 1,
   "id": "ac6c854f-835a-4cc2-8cc5-77b6f5d2d417",
   "metadata": {},
   "outputs": [],
   "source": [
    "from masking_py3 import maskmaker\n",
    "import numpy as np\n",
    "import matplotlib.pyplot as plt\n",
    "from psana import * "
   ]
  },
  {
   "cell_type": "markdown",
   "id": "d0e7973d-79b6-4a16-9b6b-e265e602b132",
   "metadata": {},
   "source": [
    "## Next the tunables"
   ]
  },
  {
   "cell_type": "code",
   "execution_count": 11,
   "id": "a33bfdc3-4870-4f1f-96b1-0adf17811541",
   "metadata": {},
   "outputs": [],
   "source": [
    "run = 22\n",
    "Nevents = 100000.\n",
    "datadir = '/sdf/data/lcls/ds/cxi/cxil1035023/scratch/lhuang3/'#'/sdf/data/lcls/ds/cxi/cxix1000021/scratch/nag1647/Masks/'\n",
    "detector = 'front' \n",
    "#filename = datadir+'path/%dfile_%d.h5' %(run, Nevents/1000)\n",
    "#filename = '/sdf/data/lcls/ds/cxi/cxil1035023/scratch/lhuang3/run95_100_stats.h5'#datadir+'run%d_%d_stats.h5' %(run, Nevents/1000)\n",
    "whichmask = 'dark' #'dark' or 'xray'\n",
    "# whichmask = 'xray'\n",
    "\n",
    "if whichmask == 'xray':\n",
    "\toldmask = np.load(datadir+'run%d_mask_dark.npy' %run)\n",
    "   # oldmask = np.load(datadir+'Mask_Jungfrau_T_Edge_Corrected.npy')\n",
    "if whichmask == 'dark':\n",
    "\toldmask = np.load(datadir+'Mask_Jungfrau_T_Edge_Corrected.npy') #mask of just edge & unbonded pixels\n",
    "    \n",
    "#print(np.sum(oldmask))  \n",
    "#for i in range(2,4):\n",
    "#    oldmask[i,252:257,:] = 0\n",
    "#    oldmask[i,:,766:769] = 0\n",
    "#for i in range(4,6):\n",
    "#    oldmask[i,252:257,:] = 0\n",
    "#    oldmask[i,:,254:257] = 0\n",
    "#for i in range(0,8):\n",
    "#    oldmask[i,0,:] = 0\n",
    "#    oldmask[i,511,:] = 0\n",
    "#    oldmask[i,:,0] = 0\n",
    "#    oldmask[i,:,1023] = 0\n",
    "\n",
    "#np.save('Mask_Jungfrau_T_Edge_Corrected.npy', oldmask)\n"
   ]
  },
  {
   "cell_type": "code",
   "execution_count": 12,
   "id": "12299042-51c7-4004-bf4c-39515de1be6b",
   "metadata": {},
   "outputs": [
    {
     "name": "stdout",
     "output_type": "stream",
     "text": [
      "/sdf/data/lcls/ds/cxi/cxil1006021/scratch/lhuang3/run95_100_stats.h5\n"
     ]
    }
   ],
   "source": [
    "print(filename)"
   ]
  },
  {
   "cell_type": "markdown",
   "id": "890cb71a-3b81-4b95-b0c7-531185d12eae",
   "metadata": {},
   "source": [
    "## Make the Mask"
   ]
  },
  {
   "cell_type": "code",
   "execution_count": 8,
   "id": "21b8cdf9",
   "metadata": {},
   "outputs": [
    {
     "ename": "FileNotFoundError",
     "evalue": "[Errno 2] Unable to open file (unable to open file: name = '/sdf/data/lcls/ds/cxi/cxil1006021/scratch/lhuang3/run95_100_stats.h5', errno = 2, error message = 'No such file or directory', flags = 0, o_flags = 0)",
     "output_type": "error",
     "traceback": [
      "\u001b[0;31m---------------------------------------------------------------------------\u001b[0m",
      "\u001b[0;31mFileNotFoundError\u001b[0m                         Traceback (most recent call last)",
      "Cell \u001b[0;32mIn [8], line 2\u001b[0m\n\u001b[1;32m      1\u001b[0m \u001b[38;5;28;01mimport\u001b[39;00m \u001b[38;5;21;01mh5py\u001b[39;00m\n\u001b[0;32m----> 2\u001b[0m hf \u001b[38;5;241m=\u001b[39m \u001b[43mh5py\u001b[49m\u001b[38;5;241;43m.\u001b[39;49m\u001b[43mFile\u001b[49m\u001b[43m(\u001b[49m\u001b[43mfilename\u001b[49m\u001b[43m,\u001b[49m\u001b[43m \u001b[49m\u001b[38;5;124;43m'\u001b[39;49m\u001b[38;5;124;43mr\u001b[39;49m\u001b[38;5;124;43m'\u001b[39;49m\u001b[43m)\u001b[49m\n\u001b[1;32m      3\u001b[0m \u001b[38;5;28mprint\u001b[39m(hf\u001b[38;5;241m.\u001b[39mkeys())\n\u001b[1;32m      4\u001b[0m \u001b[38;5;28mprint\u001b[39m(np\u001b[38;5;241m.\u001b[39msum(hf[\u001b[38;5;124m'\u001b[39m\u001b[38;5;124mxray_shots\u001b[39m\u001b[38;5;124m'\u001b[39m][\u001b[38;5;241m0\u001b[39m]))\n",
      "File \u001b[0;32m/sdf/group/lcls/ds/ana/sw/conda1/inst/envs/ana-4.0.63-py3/lib/python3.9/site-packages/h5py/_hl/files.py:533\u001b[0m, in \u001b[0;36mFile.__init__\u001b[0;34m(self, name, mode, driver, libver, userblock_size, swmr, rdcc_nslots, rdcc_nbytes, rdcc_w0, track_order, fs_strategy, fs_persist, fs_threshold, fs_page_size, page_buf_size, min_meta_keep, min_raw_keep, locking, alignment_threshold, alignment_interval, **kwds)\u001b[0m\n\u001b[1;32m    525\u001b[0m     fapl \u001b[38;5;241m=\u001b[39m make_fapl(driver, libver, rdcc_nslots, rdcc_nbytes, rdcc_w0,\n\u001b[1;32m    526\u001b[0m                      locking, page_buf_size, min_meta_keep, min_raw_keep,\n\u001b[1;32m    527\u001b[0m                      alignment_threshold\u001b[38;5;241m=\u001b[39malignment_threshold,\n\u001b[1;32m    528\u001b[0m                      alignment_interval\u001b[38;5;241m=\u001b[39malignment_interval,\n\u001b[1;32m    529\u001b[0m                      \u001b[38;5;241m*\u001b[39m\u001b[38;5;241m*\u001b[39mkwds)\n\u001b[1;32m    530\u001b[0m     fcpl \u001b[38;5;241m=\u001b[39m make_fcpl(track_order\u001b[38;5;241m=\u001b[39mtrack_order, fs_strategy\u001b[38;5;241m=\u001b[39mfs_strategy,\n\u001b[1;32m    531\u001b[0m                      fs_persist\u001b[38;5;241m=\u001b[39mfs_persist, fs_threshold\u001b[38;5;241m=\u001b[39mfs_threshold,\n\u001b[1;32m    532\u001b[0m                      fs_page_size\u001b[38;5;241m=\u001b[39mfs_page_size)\n\u001b[0;32m--> 533\u001b[0m     fid \u001b[38;5;241m=\u001b[39m \u001b[43mmake_fid\u001b[49m\u001b[43m(\u001b[49m\u001b[43mname\u001b[49m\u001b[43m,\u001b[49m\u001b[43m \u001b[49m\u001b[43mmode\u001b[49m\u001b[43m,\u001b[49m\u001b[43m \u001b[49m\u001b[43muserblock_size\u001b[49m\u001b[43m,\u001b[49m\u001b[43m \u001b[49m\u001b[43mfapl\u001b[49m\u001b[43m,\u001b[49m\u001b[43m \u001b[49m\u001b[43mfcpl\u001b[49m\u001b[43m,\u001b[49m\u001b[43m \u001b[49m\u001b[43mswmr\u001b[49m\u001b[38;5;241;43m=\u001b[39;49m\u001b[43mswmr\u001b[49m\u001b[43m)\u001b[49m\n\u001b[1;32m    535\u001b[0m \u001b[38;5;28;01mif\u001b[39;00m \u001b[38;5;28misinstance\u001b[39m(libver, \u001b[38;5;28mtuple\u001b[39m):\n\u001b[1;32m    536\u001b[0m     \u001b[38;5;28mself\u001b[39m\u001b[38;5;241m.\u001b[39m_libver \u001b[38;5;241m=\u001b[39m libver\n",
      "File \u001b[0;32m/sdf/group/lcls/ds/ana/sw/conda1/inst/envs/ana-4.0.63-py3/lib/python3.9/site-packages/h5py/_hl/files.py:226\u001b[0m, in \u001b[0;36mmake_fid\u001b[0;34m(name, mode, userblock_size, fapl, fcpl, swmr)\u001b[0m\n\u001b[1;32m    224\u001b[0m     \u001b[38;5;28;01mif\u001b[39;00m swmr \u001b[38;5;129;01mand\u001b[39;00m swmr_support:\n\u001b[1;32m    225\u001b[0m         flags \u001b[38;5;241m|\u001b[39m\u001b[38;5;241m=\u001b[39m h5f\u001b[38;5;241m.\u001b[39mACC_SWMR_READ\n\u001b[0;32m--> 226\u001b[0m     fid \u001b[38;5;241m=\u001b[39m \u001b[43mh5f\u001b[49m\u001b[38;5;241;43m.\u001b[39;49m\u001b[43mopen\u001b[49m\u001b[43m(\u001b[49m\u001b[43mname\u001b[49m\u001b[43m,\u001b[49m\u001b[43m \u001b[49m\u001b[43mflags\u001b[49m\u001b[43m,\u001b[49m\u001b[43m \u001b[49m\u001b[43mfapl\u001b[49m\u001b[38;5;241;43m=\u001b[39;49m\u001b[43mfapl\u001b[49m\u001b[43m)\u001b[49m\n\u001b[1;32m    227\u001b[0m \u001b[38;5;28;01melif\u001b[39;00m mode \u001b[38;5;241m==\u001b[39m \u001b[38;5;124m'\u001b[39m\u001b[38;5;124mr+\u001b[39m\u001b[38;5;124m'\u001b[39m:\n\u001b[1;32m    228\u001b[0m     fid \u001b[38;5;241m=\u001b[39m h5f\u001b[38;5;241m.\u001b[39mopen(name, h5f\u001b[38;5;241m.\u001b[39mACC_RDWR, fapl\u001b[38;5;241m=\u001b[39mfapl)\n",
      "File \u001b[0;32mh5py/_objects.pyx:54\u001b[0m, in \u001b[0;36mh5py._objects.with_phil.wrapper\u001b[0;34m()\u001b[0m\n",
      "File \u001b[0;32mh5py/_objects.pyx:55\u001b[0m, in \u001b[0;36mh5py._objects.with_phil.wrapper\u001b[0;34m()\u001b[0m\n",
      "File \u001b[0;32mh5py/h5f.pyx:106\u001b[0m, in \u001b[0;36mh5py.h5f.open\u001b[0;34m()\u001b[0m\n",
      "\u001b[0;31mFileNotFoundError\u001b[0m: [Errno 2] Unable to open file (unable to open file: name = '/sdf/data/lcls/ds/cxi/cxil1006021/scratch/lhuang3/run95_100_stats.h5', errno = 2, error message = 'No such file or directory', flags = 0, o_flags = 0)"
     ]
    }
   ],
   "source": [
    "import h5py\n",
    "hf = h5py.File(filename, 'r')\n",
    "print(hf.keys())\n",
    "print(np.sum(hf['xray_shots'][0]))"
   ]
  },
  {
   "cell_type": "code",
   "execution_count": 4,
   "id": "44e99300-12d8-4a0c-8739-f9a9f94dd5ee",
   "metadata": {},
   "outputs": [
    {
     "ename": "FileNotFoundError",
     "evalue": "[Errno 2] Unable to open file (unable to open file: name = '/sdf/data/lcls/ds/cxi/cxil1006021/scratch/lhuang3/run108_100_stats.h5', errno = 2, error message = 'No such file or directory', flags = 0, o_flags = 0)",
     "output_type": "error",
     "traceback": [
      "\u001b[0;31m---------------------------------------------------------------------------\u001b[0m",
      "\u001b[0;31mFileNotFoundError\u001b[0m                         Traceback (most recent call last)",
      "Cell \u001b[0;32mIn [4], line 3\u001b[0m\n\u001b[1;32m      1\u001b[0m \u001b[38;5;66;03m#maskmaker makes the mask, starting from the 'oldmask' input\u001b[39;00m\n\u001b[1;32m      2\u001b[0m \u001b[38;5;66;03m#from masking_py3 import maskmaker\u001b[39;00m\n\u001b[0;32m----> 3\u001b[0m mm \u001b[38;5;241m=\u001b[39m \u001b[43mmaskmaker\u001b[49m\u001b[43m(\u001b[49m\u001b[38;5;124;43m'\u001b[39;49m\u001b[38;5;124;43mcxil1006021\u001b[39;49m\u001b[38;5;124;43m'\u001b[39;49m\u001b[43m,\u001b[49m\u001b[43m \u001b[49m\u001b[43mrun\u001b[49m\u001b[43m,\u001b[49m\u001b[43m \u001b[49m\u001b[43mdetector\u001b[49m\u001b[43m,\u001b[49m\u001b[43m \u001b[49m\u001b[43mfilename\u001b[49m\u001b[43m,\u001b[49m\u001b[43m \u001b[49m\u001b[43moldmask\u001b[49m\u001b[43m)\u001b[49m\n\u001b[1;32m      5\u001b[0m xray_image \u001b[38;5;241m=\u001b[39m np\u001b[38;5;241m.\u001b[39mcopy(mm\u001b[38;5;241m.\u001b[39mxray)\n\u001b[1;32m      6\u001b[0m dark_image \u001b[38;5;241m=\u001b[39m np\u001b[38;5;241m.\u001b[39mcopy(mm\u001b[38;5;241m.\u001b[39mdark)\n",
      "File \u001b[0;32m~/CXI/Run23/L10384/Mask/masking_py3.py:14\u001b[0m, in \u001b[0;36mmaskmaker.__init__\u001b[0;34m(self, expt, run, detector, filename, oldmask)\u001b[0m\n\u001b[1;32m     11\u001b[0m \u001b[38;5;28mself\u001b[39m\u001b[38;5;241m.\u001b[39moldmask \u001b[38;5;241m=\u001b[39m oldmask\n\u001b[1;32m     12\u001b[0m \u001b[38;5;28mself\u001b[39m\u001b[38;5;241m.\u001b[39mevt0 \u001b[38;5;241m=\u001b[39m \u001b[38;5;28mnext\u001b[39m(\u001b[38;5;28mself\u001b[39m\u001b[38;5;241m.\u001b[39mds\u001b[38;5;241m.\u001b[39mevents())\n\u001b[0;32m---> 14\u001b[0m hf \u001b[38;5;241m=\u001b[39m \u001b[43mh5py\u001b[49m\u001b[38;5;241;43m.\u001b[39;49m\u001b[43mFile\u001b[49m\u001b[43m(\u001b[49m\u001b[43mfilename\u001b[49m\u001b[43m,\u001b[49m\u001b[43m \u001b[49m\u001b[38;5;124;43m'\u001b[39;49m\u001b[38;5;124;43mr\u001b[39;49m\u001b[38;5;124;43m'\u001b[39;49m\u001b[43m)\u001b[49m\n\u001b[1;32m     15\u001b[0m \u001b[38;5;28;01mfor\u001b[39;00m item \u001b[38;5;129;01min\u001b[39;00m hf:\n\u001b[1;32m     16\u001b[0m \t\u001b[38;5;28mprint\u001b[39m(\u001b[38;5;124m'\u001b[39m\u001b[38;5;132;01m%s\u001b[39;00m\u001b[38;5;124m'\u001b[39m \u001b[38;5;241m%\u001b[39m\u001b[38;5;28mstr\u001b[39m(item))            \n",
      "File \u001b[0;32m/sdf/group/lcls/ds/ana/sw/conda1/inst/envs/ana-4.0.63-py3/lib/python3.9/site-packages/h5py/_hl/files.py:533\u001b[0m, in \u001b[0;36mFile.__init__\u001b[0;34m(self, name, mode, driver, libver, userblock_size, swmr, rdcc_nslots, rdcc_nbytes, rdcc_w0, track_order, fs_strategy, fs_persist, fs_threshold, fs_page_size, page_buf_size, min_meta_keep, min_raw_keep, locking, alignment_threshold, alignment_interval, **kwds)\u001b[0m\n\u001b[1;32m    525\u001b[0m     fapl \u001b[38;5;241m=\u001b[39m make_fapl(driver, libver, rdcc_nslots, rdcc_nbytes, rdcc_w0,\n\u001b[1;32m    526\u001b[0m                      locking, page_buf_size, min_meta_keep, min_raw_keep,\n\u001b[1;32m    527\u001b[0m                      alignment_threshold\u001b[38;5;241m=\u001b[39malignment_threshold,\n\u001b[1;32m    528\u001b[0m                      alignment_interval\u001b[38;5;241m=\u001b[39malignment_interval,\n\u001b[1;32m    529\u001b[0m                      \u001b[38;5;241m*\u001b[39m\u001b[38;5;241m*\u001b[39mkwds)\n\u001b[1;32m    530\u001b[0m     fcpl \u001b[38;5;241m=\u001b[39m make_fcpl(track_order\u001b[38;5;241m=\u001b[39mtrack_order, fs_strategy\u001b[38;5;241m=\u001b[39mfs_strategy,\n\u001b[1;32m    531\u001b[0m                      fs_persist\u001b[38;5;241m=\u001b[39mfs_persist, fs_threshold\u001b[38;5;241m=\u001b[39mfs_threshold,\n\u001b[1;32m    532\u001b[0m                      fs_page_size\u001b[38;5;241m=\u001b[39mfs_page_size)\n\u001b[0;32m--> 533\u001b[0m     fid \u001b[38;5;241m=\u001b[39m \u001b[43mmake_fid\u001b[49m\u001b[43m(\u001b[49m\u001b[43mname\u001b[49m\u001b[43m,\u001b[49m\u001b[43m \u001b[49m\u001b[43mmode\u001b[49m\u001b[43m,\u001b[49m\u001b[43m \u001b[49m\u001b[43muserblock_size\u001b[49m\u001b[43m,\u001b[49m\u001b[43m \u001b[49m\u001b[43mfapl\u001b[49m\u001b[43m,\u001b[49m\u001b[43m \u001b[49m\u001b[43mfcpl\u001b[49m\u001b[43m,\u001b[49m\u001b[43m \u001b[49m\u001b[43mswmr\u001b[49m\u001b[38;5;241;43m=\u001b[39;49m\u001b[43mswmr\u001b[49m\u001b[43m)\u001b[49m\n\u001b[1;32m    535\u001b[0m \u001b[38;5;28;01mif\u001b[39;00m \u001b[38;5;28misinstance\u001b[39m(libver, \u001b[38;5;28mtuple\u001b[39m):\n\u001b[1;32m    536\u001b[0m     \u001b[38;5;28mself\u001b[39m\u001b[38;5;241m.\u001b[39m_libver \u001b[38;5;241m=\u001b[39m libver\n",
      "File \u001b[0;32m/sdf/group/lcls/ds/ana/sw/conda1/inst/envs/ana-4.0.63-py3/lib/python3.9/site-packages/h5py/_hl/files.py:226\u001b[0m, in \u001b[0;36mmake_fid\u001b[0;34m(name, mode, userblock_size, fapl, fcpl, swmr)\u001b[0m\n\u001b[1;32m    224\u001b[0m     \u001b[38;5;28;01mif\u001b[39;00m swmr \u001b[38;5;129;01mand\u001b[39;00m swmr_support:\n\u001b[1;32m    225\u001b[0m         flags \u001b[38;5;241m|\u001b[39m\u001b[38;5;241m=\u001b[39m h5f\u001b[38;5;241m.\u001b[39mACC_SWMR_READ\n\u001b[0;32m--> 226\u001b[0m     fid \u001b[38;5;241m=\u001b[39m \u001b[43mh5f\u001b[49m\u001b[38;5;241;43m.\u001b[39;49m\u001b[43mopen\u001b[49m\u001b[43m(\u001b[49m\u001b[43mname\u001b[49m\u001b[43m,\u001b[49m\u001b[43m \u001b[49m\u001b[43mflags\u001b[49m\u001b[43m,\u001b[49m\u001b[43m \u001b[49m\u001b[43mfapl\u001b[49m\u001b[38;5;241;43m=\u001b[39;49m\u001b[43mfapl\u001b[49m\u001b[43m)\u001b[49m\n\u001b[1;32m    227\u001b[0m \u001b[38;5;28;01melif\u001b[39;00m mode \u001b[38;5;241m==\u001b[39m \u001b[38;5;124m'\u001b[39m\u001b[38;5;124mr+\u001b[39m\u001b[38;5;124m'\u001b[39m:\n\u001b[1;32m    228\u001b[0m     fid \u001b[38;5;241m=\u001b[39m h5f\u001b[38;5;241m.\u001b[39mopen(name, h5f\u001b[38;5;241m.\u001b[39mACC_RDWR, fapl\u001b[38;5;241m=\u001b[39mfapl)\n",
      "File \u001b[0;32mh5py/_objects.pyx:54\u001b[0m, in \u001b[0;36mh5py._objects.with_phil.wrapper\u001b[0;34m()\u001b[0m\n",
      "File \u001b[0;32mh5py/_objects.pyx:55\u001b[0m, in \u001b[0;36mh5py._objects.with_phil.wrapper\u001b[0;34m()\u001b[0m\n",
      "File \u001b[0;32mh5py/h5f.pyx:106\u001b[0m, in \u001b[0;36mh5py.h5f.open\u001b[0;34m()\u001b[0m\n",
      "\u001b[0;31mFileNotFoundError\u001b[0m: [Errno 2] Unable to open file (unable to open file: name = '/sdf/data/lcls/ds/cxi/cxil1006021/scratch/lhuang3/run108_100_stats.h5', errno = 2, error message = 'No such file or directory', flags = 0, o_flags = 0)"
     ]
    }
   ],
   "source": [
    "#maskmaker makes the mask, starting from the 'oldmask' input\n",
    "#from masking_py3 import maskmaker\n",
    "mm = maskmaker('cxil1006021', run, detector, filename, oldmask)\n",
    "\n",
    "xray_image = np.copy(mm.xray)\n",
    "dark_image = np.copy(mm.dark)"
   ]
  },
  {
   "cell_type": "markdown",
   "id": "6e053db2-be3c-431c-b23a-fdecf3096d29",
   "metadata": {
    "jp-MarkdownHeadingCollapsed": true,
    "tags": []
   },
   "source": [
    "## Plot Average Detector Signal"
   ]
  },
  {
   "cell_type": "code",
   "execution_count": null,
   "id": "ad1cdeec-fc76-4d3d-b42b-a333cc179c54",
   "metadata": {},
   "outputs": [],
   "source": [
    "print('average detector signal')\n",
    "print(np.average(mm.intensity))\n",
    "plt.hist(mm.intensity)\n",
    "plt.title('jungfrau intensity')\n",
    "plt.ylabel('shot counts')\n",
    "plt.xlabel('intensity per shot')\n",
    "plt.show()"
   ]
  },
  {
   "cell_type": "markdown",
   "id": "14259ea1-e66c-4a8c-b63a-580a13cad80b",
   "metadata": {},
   "source": [
    "## Find Upper and Lower Bounds"
   ]
  },
  {
   "cell_type": "code",
   "execution_count": null,
   "id": "055cf8b1-8075-40a5-ada7-9fdd95714fb6",
   "metadata": {},
   "outputs": [],
   "source": [
    "###### print 'use the histogram to find lower and upper bounds'\n",
    "if whichmask == 'xray':\n",
    "\tplt.hist(xray_image.flatten(), bins=552, range = (-0.25, 0.25))\n",
    "\tplt.title('xray-on image')\n",
    "if whichmask == 'dark':\n",
    "\tplt.hist(np.nan_to_num(dark_image.flatten()), bins = 100)\n",
    "\tplt.title('xray-off image run %d' % run)\n",
    "plt.ylabel('pixel counts')\n",
    "plt.xlabel('ADU per pixel')\n",
    "plt.show()\n",
    "#plt.savefig('run%d_dark.png' % run)\n",
    "\n",
    "print('input the lower bound:')\n",
    "lb = float(input())\n",
    "print('input the upper bound:')\n",
    "ub = float(input())\n",
    "\n",
    "assert ub > lb"
   ]
  },
  {
   "cell_type": "markdown",
   "id": "06293d76-94f5-4fde-9f9c-a60f828c0fbd",
   "metadata": {},
   "source": [
    "## Make new mask"
   ]
  },
  {
   "cell_type": "code",
   "execution_count": null,
   "id": "e9712e53-bcc9-43ac-b3a6-7e8603f20227",
   "metadata": {},
   "outputs": [],
   "source": [
    "name = datadir+'run%d_mask_%s.npy' %(run, whichmask)\n",
    "newmask = mm(whichmask, lowerbound=lb, upperbound=ub, tolerance=2.5, name=name)\n",
    "print(newmask.sum())\n",
    "print(newmask.sum()/(8*512*1024))"
   ]
  },
  {
   "cell_type": "markdown",
   "id": "b77bc03b-2ef8-4e43-8ceb-cfead5a0eee4",
   "metadata": {},
   "source": [
    "## Show Xray On Jungfrau Image"
   ]
  },
  {
   "cell_type": "code",
   "execution_count": null,
   "id": "ffb95423-1ede-4f38-baeb-2cef2ab958ea",
   "metadata": {},
   "outputs": [],
   "source": [
    "img = mm.det.image(mm.evt0, xray_image)\n",
    "#plt.imshow(img, vmin=lb, vmax=ub, cmap = 'jet')\n",
    "plt.imshow(img, vmin = -2, vmax = 2, cmap = 'jet')\n",
    "plt.colorbar()\n",
    "plt.title('xray-on jungfrau image')\n",
    "plt.show()"
   ]
  },
  {
   "cell_type": "markdown",
   "id": "3aa1f7f2-d244-4f11-b9e5-33b7e909a824",
   "metadata": {},
   "source": [
    "## Show Dark Image"
   ]
  },
  {
   "cell_type": "code",
   "execution_count": null,
   "id": "3f1980fb-cb5d-443f-b64b-dcb96fc6b6e7",
   "metadata": {},
   "outputs": [],
   "source": [
    "img = mm.det.image(mm.evt0, dark_image)\n",
    "plt.imshow(img, vmin=-2, vmax=2, cmap ='jet')\n",
    "plt.title('dark jungfrau image')\n",
    "plt.colorbar()\n",
    "plt.show()"
   ]
  },
  {
   "cell_type": "markdown",
   "id": "a927e07b-be14-4bdc-ae42-3f24f3a14da4",
   "metadata": {},
   "source": [
    "## Show Masked Image"
   ]
  },
  {
   "cell_type": "code",
   "execution_count": null,
   "id": "05616541-74b0-47ab-aff9-111f4da92b2e",
   "metadata": {},
   "outputs": [],
   "source": [
    "img = mm.det.image(mm.evt0, newmask* xray_image)\n",
    "#plt.imshow(img, vmin=lb, vmax=ub)\n",
    "plt.imshow(img, vmin=-2, vmax=2, cmap = 'jet')\n",
    "plt.title('dark jungfrau image')\n",
    "plt.colorbar()\n",
    "plt.title('masked jungfrau')\n",
    "plt.show()"
   ]
  },
  {
   "cell_type": "code",
   "execution_count": null,
   "id": "394d6a4c-3670-4288-87a5-096eeeedcabc",
   "metadata": {},
   "outputs": [],
   "source": [
    "img = mm.det.image(mm.evt0, newmask)\n",
    "plt.imshow(img, vmin=0, vmax=1.3, cmap = 'jet')\n",
    "plt.title('Basic Mask')\n",
    "plt.colorbar()\n",
    "plt.show()\n",
    "#plt.savefig('analysis_mask.png')"
   ]
  },
  {
   "cell_type": "markdown",
   "id": "6d0cfec5-5659-4497-b763-d051c76cfeed",
   "metadata": {},
   "source": [
    "## Let's find the 'Bad T' sections and remove them"
   ]
  },
  {
   "cell_type": "code",
   "execution_count": null,
   "id": "f8c9db12-da7b-4e83-b8be-087c5d0e45a5",
   "metadata": {},
   "outputs": [],
   "source": [
    "Jungfrau_Test = newmask\n",
    "sum_value_array_512 = np.zeros(512)\n",
    "sum_value_array_1024 = np.zeros(1024)\n",
    "for i in range(0,512):\n",
    "    sum_value = np.sum(Jungfrau_Test[4,i,:])\n",
    "    sum_value_array_512[i] = sum_value\n",
    "for i in range(0, 1024):\n",
    "    sum_value = np.sum(Jungfrau_Test[4,:,i])\n",
    "    sum_value_array_1024[i] = sum_value\n",
    "    \n",
    "print(np.min(sum_value_array_512))\n",
    "print(np.where(sum_value_array_512 == np.min(sum_value_array_512)))\n",
    "print(np.min(sum_value_array_1024))\n",
    "print(np.where(sum_value_array_1024 == np.min(sum_value_array_1024)))\n",
    "print(sum_value_array_512[245:265]) #It looks like columns 252-257 should be omitted\n",
    "print(sum_value_array_1024[245:265]) #It looks like rows 254-257 should be omitted in modules 4 and 5\n",
    "\n",
    "reg_array = np.arange(1024)\n",
    "flip_array = np.flip(reg_array)\n",
    "print(flip_array[254]) \n",
    "print(flip_array[257]) #The results from 'flip array' indicate rows 766-769 should be omitted in modules 2 and 3\n",
    "\n",
    "    "
   ]
  },
  {
   "cell_type": "code",
   "execution_count": null,
   "id": "828f14a8-d4bb-4508-8d9f-d1e1eebdcd9a",
   "metadata": {},
   "outputs": [],
   "source": []
  }
 ],
 "metadata": {
  "kernelspec": {
   "display_name": "Python 3 (ipykernel)",
   "language": "python",
   "name": "python3"
  },
  "language_info": {
   "codemirror_mode": {
    "name": "ipython",
    "version": 3
   },
   "file_extension": ".py",
   "mimetype": "text/x-python",
   "name": "python",
   "nbconvert_exporter": "python",
   "pygments_lexer": "ipython3",
   "version": "3.9.20"
  }
 },
 "nbformat": 4,
 "nbformat_minor": 5
}
