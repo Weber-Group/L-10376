{
 "cells": [
  {
   "cell_type": "code",
   "execution_count": 1,
   "id": "6c0ba1d1",
   "metadata": {},
   "outputs": [],
   "source": [
    "import psana\n",
    "import os\n",
    "import numpy as np\n",
    "\n",
    "expname='cxil1006021'"
   ]
  },
  {
   "cell_type": "markdown",
   "id": "36388500",
   "metadata": {},
   "source": [
    "# run is the run used to create the data source from.\n",
    "# validStart is the run you would like to mask to be valid from"
   ]
  },
  {
   "cell_type": "code",
   "execution_count": 2,
   "id": "f0ee9dfd",
   "metadata": {},
   "outputs": [],
   "source": [
    "run=96\n",
    "validStart=run"
   ]
  },
  {
   "cell_type": "markdown",
   "id": "5c0a978b",
   "metadata": {},
   "source": [
    "# Define the Datasource, psana.Detector & directory to save the mask to"
   ]
  },
  {
   "cell_type": "code",
   "execution_count": 3,
   "id": "8f0f7621",
   "metadata": {},
   "outputs": [],
   "source": [
    "#ds = psana.DataSource('exp=%s:run=%d:dir=/sdf/data/lcls/drpsrcf/ffb/%s/%s/xtc'%(expname,run,expname[:3],expname))\n",
    "ds = psana.DataSource('exp=%s:run=%d:dir=/sdf/data/lcls/ds/cxi/cxil1006021/xtc' %(expname,run))\n",
    "det = psana.Detector('jungfrau4M')\n",
    "dirname = '/sdf/data/lcls/ds/%s/%s/calib/Jungfrau::CalibV1/CxiDs1.0:Jungfrau.0/pixel_mask/'%(expname[:3],expname)\n",
    "fname = '%d-end.data'%validStart"
   ]
  },
  {
   "cell_type": "markdown",
   "id": "8198b7c3",
   "metadata": {},
   "source": [
    "# this is a place holder for however you'd like to create your mask"
   ]
  },
  {
   "cell_type": "code",
   "execution_count": null,
   "id": "df27b84d",
   "metadata": {},
   "outputs": [],
   "source": [
    "#evt = next(ds.events())\n",
    "#calibData = det.calib(evt)\n",
    "#print(calibData.shape)\n",
    "#mask = (calibData>np.percentile(calibData,50))\n",
    "mask = np.load('/sdf/data/lcls/ds/cxi/cxil1015021/scratch/nag1647/Masks/Mask_Jungfrau_418_429.npy')"
   ]
  },
  {
   "cell_type": "markdown",
   "id": "1941b4b1",
   "metadata": {},
   "source": [
    "# save the mask"
   ]
  },
  {
   "cell_type": "code",
   "execution_count": null,
   "id": "bb6c3927",
   "metadata": {},
   "outputs": [],
   "source": [
    "if not os.path.exists(dirname):\n",
    "    os.makedirs(dirname)\n",
    "det.save_txtnda(dirname+fname, mask.astype(float), fmt='%d', addmetad=True)"
   ]
  },
  {
   "cell_type": "markdown",
   "id": "cbcd7af9",
   "metadata": {},
   "source": [
    "# check the mask"
   ]
  },
  {
   "cell_type": "code",
   "execution_count": null,
   "id": "9f2d33cd",
   "metadata": {},
   "outputs": [],
   "source": [
    "mask_read = det.mask(validStart, calib=True)\n",
    "\n",
    "print(mask_read.shape, mask.shape)\n",
    "print((mask==mask_read).sum())\n",
    "print(((~mask)==mask_read).sum())"
   ]
  },
  {
   "cell_type": "code",
   "execution_count": null,
   "id": "36148ea9-6c29-4de2-b918-f5ace54c0e9d",
   "metadata": {},
   "outputs": [],
   "source": []
  }
 ],
 "metadata": {
  "kernelspec": {
   "display_name": "Python 3 (ipykernel)",
   "language": "python",
   "name": "python3"
  },
  "language_info": {
   "codemirror_mode": {
    "name": "ipython",
    "version": 3
   },
   "file_extension": ".py",
   "mimetype": "text/x-python",
   "name": "python",
   "nbconvert_exporter": "python",
   "pygments_lexer": "ipython3",
   "version": "3.9.20"
  }
 },
 "nbformat": 4,
 "nbformat_minor": 5
}
