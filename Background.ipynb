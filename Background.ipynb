{
 "cells": [
  {
   "cell_type": "markdown",
   "id": "cc695478-5d78-41f5-bb1d-fbd01c9722c4",
   "metadata": {
    "editable": true,
    "slideshow": {
     "slide_type": ""
    },
    "tags": []
   },
   "source": [
    "# Background Plotting Notebook"
   ]
  },
  {
   "cell_type": "markdown",
   "id": "c8f1e197-0c57-4c48-a4bc-386635abab03",
   "metadata": {
    "editable": true,
    "slideshow": {
     "slide_type": ""
    },
    "tags": []
   },
   "source": [
    "## Import python libraries"
   ]
  },
  {
   "cell_type": "code",
   "execution_count": null,
   "id": "8711161a-7363-4176-b521-87fc3d712171",
   "metadata": {
    "editable": true,
    "slideshow": {
     "slide_type": ""
    },
    "tags": [
     "Imports"
    ]
   },
   "outputs": [],
   "source": [
    "import numpy as np \n",
    "import h5py\n",
    "import matplotlib.pyplot as plt\n",
    "import scipy.io\n",
    "import os\n",
    "import re\n",
    "from utils import *"
   ]
  },
  {
   "cell_type": "markdown",
   "id": "7bf9ee63-66a7-432d-8ad0-5cedf5c36064",
   "metadata": {
    "editable": true,
    "slideshow": {
     "slide_type": ""
    },
    "tags": []
   },
   "source": [
    "## Next define keys (data parameters) to be loaded and define function to load data\n",
    "#### (1) keys_to_combine: some keys loaded for each shot & stored per shot (2) keys_to_sum: some keys loaded per each run and added (3) keys_to_check : check if some keys exits and have same values in all runs and load these keys "
   ]
  },
  {
   "cell_type": "markdown",
   "id": "9098d8b7-0272-434f-b339-f909e8d1f4e0",
   "metadata": {
    "editable": true,
    "slideshow": {
     "slide_type": ""
    },
    "tags": []
   },
   "source": [
    "# Load the data into defined variables\n",
    "#### note if there is some error loading a key, then comment it out and try to load data. \n",
    "#### sometimes keys of a data parameter may be saved with different name, print out all keys to figure out the required key"
   ]
  },
  {
   "cell_type": "code",
   "execution_count": null,
   "id": "9542a81b-c7d9-4eaa-8d4c-8599e0d444c1",
   "metadata": {
    "editable": true,
    "slideshow": {
     "slide_type": ""
    },
    "tags": []
   },
   "outputs": [],
   "source": [
    "###############################################\n",
    "runNumbers = []  # enter the run numbers to be loaded\n",
    "folder = '/sdf/data/lcls/ds/cxi/cxil1037623/hdf5/smalldata/' # insert here the directory path where .h5 files are stored\n",
    "###############################################\n",
    "# (1) keys_to_combine: some keys loaded for each shot & stored per shot \n",
    "# (2) keys_to_sum: some keys loaded per each run and added \n",
    "# (3) keys_to_check : check if some keys exits and have same values in all runs and load these keys \n",
    "keys_to_combine = ['jungfrau4M/azav_mask0_azav', # Unfiltered\n",
    "                   'jungfrau4M/azav_mask1_azav', # Filtered\n",
    "                   'ipm_dg2/sum',\n",
    "                    #'ipm_dg3/sum',\n",
    "                   #'ipm_hfx_dg2/sum',\n",
    "                   'gas_detector/f_11_ENRC',\n",
    "                   'ebeam/photon_energy',\n",
    "                   'evr/code_183',\n",
    "                   'evr/code_137',\n",
    "                   'evr/code_141',\n",
    "                   'lightStatus/xray',\n",
    "                  #'CXI-DG2-BMMON-WF/cxi_dg2_bmmon_wf_rebin_data',\n",
    "                  'jungfrau4M/Full_thres_sum',\n",
    "                  'feeBld/hproj']\n",
    "\n",
    "keys_to_sum = ['Sums/jungfrau4M_calib']\n",
    "#               'Sums/jungfrau4M_calib_thresADU1']\n",
    "\n",
    "keys_to_check = ['UserDataCfg/jungfrau4M/azav_mask0__azav_mask0_q',\n",
    "                'UserDataCfg/jungfrau4M/azav_mask1__azav_mask1_q',\n",
    "                'UserDataCfg/jungfrau4M/azav_mask0__azav_mask0_qbin',\n",
    "                'UserDataCfg/jungfrau4M/azav_mask1__azav_mask1_qbin',\n",
    "                'UserDataCfg/jungfrau4M/azav_mask0__azav_mask0_qbins',\n",
    "                'UserDataCfg/jungfrau4M/azav_mask1__azav_mask1_qbins',\n",
    "                'UserDataCfg/jungfrau4M/azav_mask0__azav_mask0_userMask',\n",
    "                'UserDataCfg/jungfrau4M/azav_mask1__azav_mask1_userMask',\n",
    "                'UserDataCfg/jungfrau4M/azav_mask0__azav_mask0_matrix_q', # This are only needed once\n",
    "                'UserDataCfg/jungfrau4M/azav_mask0__azav_mask0_matrix_phi', # This are only needed once\n",
    "                'UserDataCfg/jungfrau4M/x',\n",
    "                'UserDataCfg/jungfrau4M/y',\n",
    "                'UserDataCfg/jungfrau4M/z',\n",
    "                'UserDataCfg/jungfrau4M/cmask']\n",
    "# Load the data in\n",
    "data = combineRuns(runNumbers, folder, keys_to_combine, keys_to_sum, keys_to_check, verbose=False)  # this is the function to load the data with defined keys\n",
    "\n",
    "# Unfiltered Data\n",
    "azav = np.squeeze(data['jungfrau4M/azav_mask0_azav']) # I(q) : 1D azimuthal average of signals in each q bin\n",
    "qbin = data['UserDataCfg/jungfrau4M/azav_mask0__azav_mask0_qbin'] # q bin-size\n",
    "q = data['UserDataCfg/jungfrau4M/azav_mask0__azav_mask0_q'] # q bins \n",
    "qbins = data['UserDataCfg/jungfrau4M/azav_mask0__azav_mask0_qbins'] # q bins\n",
    "userMask = data['UserDataCfg/jungfrau4M/azav_mask0__azav_mask0_userMask'].astype(bool) # User mask for this region\n",
    "# Filtered Data\n",
    "azavFiltered = np.squeeze(data['jungfrau4M/azav_mask1_azav']) # I(q) : 1D azimuthal average of signals in each q bin\n",
    "qbinFiltered = data['UserDataCfg/jungfrau4M/azav_mask1__azav_mask1_qbin'] # q bin-size\n",
    "qFiltered = data['UserDataCfg/jungfrau4M/azav_mask1__azav_mask1_q'] # q bins \n",
    "qbinsFiltered = data['UserDataCfg/jungfrau4M/azav_mask1__azav_mask1_qbins'] # q bins\n",
    "userMaskFiltered = data['UserDataCfg/jungfrau4M/azav_mask1__azav_mask1_userMask'].astype(bool) # User mask for this region\n",
    "# Other Data\n",
    "matrix_q = data['UserDataCfg/jungfrau4M/azav_mask0__azav_mask0_matrix_q'].reshape(8,512,1024) # Q values J4M shaped\n",
    "matrix_phi = data['UserDataCfg/jungfrau4M/azav_mask0__azav_mask0_matrix_phi'].reshape(8,512,1024) # phi valyes J4M shaped\n",
    "xrayOn = data['evr/code_137'].astype(bool)  # xray on events\n",
    "xrayOn2 = data['lightStatus/xray'].astype(bool)  # xray on events\n",
    "jungfrau_sum = data['Sums/jungfrau4M_calib']  # Total Jungfrau detector counts summed in a run\n",
    "#jungfrau_sum = data['Sums/jungfrau4M_calib_thresADU1']   # Total Jungfrau detector counts with Thresholds added, summed in a run \n",
    "x = data['UserDataCfg/jungfrau4M/x'] # coordinates of Jungfrau detector x,y,z\n",
    "y = data['UserDataCfg/jungfrau4M/y']\n",
    "z = data['UserDataCfg/jungfrau4M/z'] \n",
    "\n",
    "cmask = data['UserDataCfg/jungfrau4M/cmask'].astype(bool) # Mask for detector created \n",
    "run_indicator = data['run_indicator'] # run indicator for each shot\n",
    "# dg3 = data['ipm_dg3/sum']    # downstream diode x-ray intensity\n",
    "# pressure = data['epicsAll/gasCell_pressure']  # pressure in gas cell\n",
    "xray_energy = data['gas_detector/f_11_ENRC']   # xray energy from gas detector (not calibrated to actual values)\n",
    "xray_eV = data['ebeam/photon_energy']    # x-ray energy energy in eV\n",
    "#dg2Trace = data['CXI-DG2-BMMON-WF/cxi_dg2_bmmon_wf_rebin_data']\n",
    "numPhotons = data['jungfrau4M/Full_thres_sum']\n",
    "spec = data['feeBld/hproj'] # Shot to shot spectrometer"
   ]
  },
  {
   "cell_type": "markdown",
   "id": "dd2b9b45-498e-444a-b65d-e1c3ca259529",
   "metadata": {
    "editable": true,
    "slideshow": {
     "slide_type": ""
    },
    "tags": []
   },
   "source": [
    "# plot the raw Jungfrau Sum as a check"
   ]
  },
  {
   "cell_type": "code",
   "execution_count": null,
   "id": "36357952-6bef-415d-b01f-cd1eb111f5b4",
   "metadata": {
    "editable": true,
    "slideshow": {
     "slide_type": ""
    },
    "tags": []
   },
   "outputs": [],
   "source": [
    "#jungfrau_sum[jungfrau_sum>100*np.median(jungfrau_sum)]=0 \n",
    "plt.figure(figsize=(9,6))\n",
    "pcm = plot_jungfrau(y,-x,jungfrau_sum,vmin=0,vmax=1e4)\n",
    "plt.colorbar(pcm)\n",
    "plt.show()"
   ]
  },
  {
   "cell_type": "markdown",
   "id": "bc5f8efd-a35b-4184-8c3f-498e26b087f1",
   "metadata": {
    "editable": true,
    "slideshow": {
     "slide_type": ""
    },
    "tags": []
   },
   "source": [
    "# Runs compare : background signal\n"
   ]
  },
  {
   "cell_type": "code",
   "execution_count": null,
   "id": "50ce2653-3a3d-4afe-af3b-ea9c0f2b2d5f",
   "metadata": {
    "editable": true,
    "slideshow": {
     "slide_type": ""
    },
    "tags": []
   },
   "outputs": [],
   "source": [
    "runtype = ['Background'] # Edit this as needed to label runs before saving the data\n",
    "azav_run = np.zeros(((azav[0,:].size), np.unique(run_indicator).size)) # I(q) per run\n",
    "j = 0 \n",
    "for run in runNumbers: # Looping through the runs, \n",
    "    timebin_run = np.where((run_indicator == run))[0] # Making a mask for separating out the runs from the combined dataset\n",
    "    print(timebin_run.size) # Print the number of shots in the run\n",
    "    azav_run[:,j] = np.nanmean(azav[timebin_run],axis=0) # Averaging the shot to shot azav data\n",
    "    plt.plot(qbins[:-1], np.log10(azav_run[:, j]), label=f'Run {run} {runtype[j]}') # Plotting it\n",
    "    j +=1\n",
    "\n",
    "# Making the plot look nice\n",
    "plt.xlabel('q')\n",
    "plt.ylabel('log[I]')\n",
    "plt.legend(loc=(1.1,0.2))\n",
    "plt.title('Background Runs')\n",
    "plt.show()"
   ]
  },
  {
   "cell_type": "markdown",
   "id": "29744cb1-4223-4bf4-9ecd-21ffe2f64e5d",
   "metadata": {},
   "source": [
    "## Save the data to the backgrounds folder if you want\n",
    "### This is generally useful if the dimensions of the arrays are different run to run."
   ]
  },
  {
   "cell_type": "code",
   "execution_count": null,
   "id": "6ae6ce19-dc08-49be-97fc-1764d341f1b0",
   "metadata": {
    "editable": true,
    "slideshow": {
     "slide_type": ""
    },
    "tags": []
   },
   "outputs": [],
   "source": [
    "##########################\n",
    "runType = 'Background' # Edit this for the type of run\n",
    "backgroundFolder = 'Backgrounds' # Edit this if you want\n",
    "##########################\n",
    "bkgAzav = (azav_run[:,0]) # Taking only the first element of the array for saving\n",
    "# np.savez(f'{backgroundFolder}/Background_Run_{runNumbers[0]}.npz',x=qbins[:-1],y=np.log10(y))\n",
    "if not os.path.isdir(backgroundFolder): # Checking to see if the folder exists\n",
    "    os.makedirs(backgroundFolder) # Making it if it doesn't\n",
    "np.savez(f'{backgroundFolder}/Run_{runNumbers[0]}_{runType}.npz',x=qbins[:-1],y=np.log10(bkgAzav))"
   ]
  },
  {
   "cell_type": "markdown",
   "id": "f5322de0-6469-47d4-ab95-f12112dc4a31",
   "metadata": {
    "editable": true,
    "slideshow": {
     "slide_type": ""
    },
    "tags": []
   },
   "source": [
    "## Plot background for each run from the data in the background folder"
   ]
  },
  {
   "cell_type": "code",
   "execution_count": null,
   "id": "27eeceac-f238-4e54-af08-6f70a581fe65",
   "metadata": {
    "editable": true,
    "slideshow": {
     "slide_type": ""
    },
    "tags": []
   },
   "outputs": [],
   "source": [
    "import scipy.io\n",
    "plt.figure()\n",
    "# Regular expression pattern for matching filenames\n",
    "pattern = re.compile(r'^Run_(\\d+)_(.+?)\\.npz$')\n",
    "\n",
    "# Loop through all files in the background folder\n",
    "for filename in os.listdir(backgroundFolder):\n",
    "    match = pattern.match(filename) # Check to see if the filename matches the pattern\n",
    "    if match:\n",
    "        parts = filename.split('_')\n",
    "        # Extract the run number (second part)\n",
    "        run_number = int(parts[1])\n",
    "        # Extract the title (third part, remove .npz)\n",
    "        title = parts[2].replace('.npz', '')\n",
    "        # Load the .npz file\n",
    "        file_path = os.path.join(backgroundFolder, filename)\n",
    "        data = np.load(file_path)\n",
    "        # Plot it\n",
    "        plt.plot(data['x'],data['y'],linestyle='-',marker = 'o',linewidth = 1.5,label=f'Run {run_number} {title}')\n",
    "    else:\n",
    "        print(f'Skipped File: {filename}')\n",
    "\n",
    "# Making the plot look nice\n",
    "plt.xlabel('q')\n",
    "plt.ylabel('log[I]')\n",
    "plt.legend(loc=(1.1,0.2))\n",
    "#plt.xlim(0,16)\n",
    "#plt.ylim(-0.4,0.8)\n",
    "plt.title('Background Runs')\n",
    "plt.show()"
   ]
  }
 ],
 "metadata": {
  "kernelspec": {
   "display_name": "Python 3 (ipykernel)",
   "language": "python",
   "name": "python3"
  },
  "language_info": {
   "codemirror_mode": {
    "name": "ipython",
    "version": 3
   },
   "file_extension": ".py",
   "mimetype": "text/x-python",
   "name": "python",
   "nbconvert_exporter": "python",
   "pygments_lexer": "ipython3",
   "version": "3.9.20"
  },
  "toc": {
   "base_numbering": 0
  }
 },
 "nbformat": 4,
 "nbformat_minor": 5
}
